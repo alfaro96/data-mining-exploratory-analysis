{
 "cells": [
  {
   "cell_type": "markdown",
   "metadata": {
    "_cell_guid": "b1076dfc-b9ad-4769-8c92-a6c4dae69d19",
    "_uuid": "8f2839f25d086af736a60e9eeb907d3b93b6e0e5",
    "papermill": {
     "duration": 0.051733,
     "end_time": "2020-12-10T16:06:52.626858",
     "exception": false,
     "start_time": "2020-12-10T16:06:52.575125",
     "status": "completed"
    },
    "tags": []
   },
   "source": [
    "# Práctica 1: Análisis exploratorio de datos, preprocesamiento y validación de modelos de clasificación\n",
    "\n",
    "## Minería de Datos\n",
    "\n",
    "### Curso académico 2021-2022\n",
    "\n",
    "#### Profesorado:\n",
    "\n",
    "* Juan Carlos Alfaro Jiménez\n",
    "* José Antonio Gámez Martín\n",
    "\n",
    "---\n",
    "\n",
    "**Notas**:\n",
    "\n",
    "* Adaptado de las prácticas de Jacinto Arias Martínez y Enrique González Rodrigo.\n",
    "\n",
    "---"
   ]
  },
  {
   "cell_type": "markdown",
   "metadata": {
    "_uuid": "8a7623324f8efa406ac9e5a9d0753c872bfdc032",
    "papermill": {
     "duration": 0.047144,
     "end_time": "2020-12-10T16:06:52.722390",
     "exception": false,
     "start_time": "2020-12-10T16:06:52.675246",
     "status": "completed"
    },
    "tags": []
   },
   "source": [
    "En esta práctica vamos a trabajar algunos de los aspectos más importantes del proceso *KDD* (*Knowledge Discovery from Data*):\n",
    "\n",
    "* Almacenamiento y carga de datos\n",
    "* Análisis exploratorio de datos\n",
    "* Preprocesamiento de datos\n",
    "* Validación de modelos de clasificación\n",
    "\n",
    "Para ello, aprenderemos a manipular y visualizar los datos mediante distintas funciones de la librería `plotly`. Además, aprenderemos a utilizar algoritmos de clasificación como *Zero-R* y árboles de decisión usando la librería `scikit-learn`.\n",
    "\n",
    "El objetivo de la práctica será aprender a cargar, explorar y preparar nuestros datos, aprender y validar distintos modelos de clasificación y ser capaces de interpretar los resultados obtenidos. Para lograrlo, utilizaremos dos conjuntos de datos sintéticos:\n",
    "\n",
    "- `iris`: https://www.kaggle.com/uciml/iris\n",
    "- `titanic`: https://www.kaggle.com/c/titanic\n",
    "\n",
    "La descripción de cada uno de estos conjuntos de datos se encuentra en el enlace correspondiente."
   ]
  },
  {
   "cell_type": "markdown",
   "metadata": {
    "_uuid": "35d7e4008f39bffb579a13479097fe83e6a8eb00",
    "papermill": {
     "duration": 0.048717,
     "end_time": "2020-12-10T16:06:52.820624",
     "exception": false,
     "start_time": "2020-12-10T16:06:52.771907",
     "status": "completed"
    },
    "tags": []
   },
   "source": [
    "# 1. Preliminares\n",
    "\n",
    "Antes de comenzar, vamos a fijar una semilla para que los experimentos sean reproducibles:"
   ]
  },
  {
   "cell_type": "code",
   "execution_count": 1,
   "metadata": {
    "execution": {
     "iopub.execute_input": "2020-12-10T16:06:56.873601Z",
     "iopub.status.busy": "2020-12-10T16:06:56.872784Z",
     "iopub.status.idle": "2020-12-10T16:06:56.875710Z",
     "shell.execute_reply": "2020-12-10T16:06:56.875091Z"
    },
    "papermill": {
     "duration": 0.05655,
     "end_time": "2020-12-10T16:06:56.875835",
     "exception": false,
     "start_time": "2020-12-10T16:06:56.819285",
     "status": "completed"
    },
    "tags": []
   },
   "outputs": [],
   "source": [
    "random_state = 27912"
   ]
  },
  {
   "cell_type": "markdown",
   "metadata": {},
   "source": [
    "Y definir una serie de funciones útiles que usaremos posteriormente:"
   ]
  },
  {
   "cell_type": "code",
   "execution_count": 2,
   "metadata": {},
   "outputs": [],
   "source": [
    "from sklearn.metrics import classification_report, plot_confusion_matrix"
   ]
  },
  {
   "cell_type": "code",
   "execution_count": 3,
   "metadata": {},
   "outputs": [],
   "source": [
    "from IPython.display import display"
   ]
  },
  {
   "cell_type": "code",
   "execution_count": 4,
   "metadata": {},
   "outputs": [],
   "source": [
    "def fit_evaluate(estimator, X_train, X_test, y_train, y_test):\n",
    "    \"\"\"Fit the estimator to the training dataset and evaluate in the testing dataset.\"\"\"\n",
    "    # Fit the model according to the given training dataset\n",
    "    estimator = estimator.fit(X_train, y_train)\n",
    "\n",
    "    # Predict the class labels for the testing dataset\n",
    "    predictions = estimator.predict(X_test)\n",
    "\n",
    "    # Build a text report (in a dictionary) with the main classification metrics\n",
    "    report = classification_report(y_test, predictions, output_dict=True)\n",
    "\n",
    "    # Convert the dictionary to tabular data\n",
    "    report = pd.DataFrame(report).T\n",
    "\n",
    "    # Display the text report\n",
    "    display(report)\n",
    "\n",
    "    # Plot the confusion matrix for the testing dataset\n",
    "    plot_confusion_matrix(estimator, X_test, y_test);\n",
    "\n",
    "    return estimator, predictions"
   ]
  },
  {
   "cell_type": "markdown",
   "metadata": {
    "_uuid": "c225b530d06a70b6bbf26ec0d593aa42715fa9d8",
    "papermill": {
     "duration": 0.048106,
     "end_time": "2020-12-10T16:06:56.972362",
     "exception": false,
     "start_time": "2020-12-10T16:06:56.924256",
     "status": "completed"
    },
    "tags": []
   },
   "source": [
    "# 2. Acceso y almacenamiento de datos\n",
    "\n",
    "Se trata de uno de los problemas críticos en cualquier aplicación real, ya que tendremos que tener en cuenta numerosas preguntas:\n",
    "\n",
    "* ¿Dónde se generan los datos?\n",
    "* ¿Con qué frecuencia?\n",
    "* ¿Cuánto cuesta transmitirlos?\n",
    "* ¿Dónde se van a almacenar?\n",
    "* ¿Cuánto ocupan?\n",
    "\n",
    "Además de añadir un alto grado de dificultad al proceso, las soluciones que aportemos suelen ser *ad-hoc*, esto es, para un problema concreto. Debido a esto es muy probable que tengamos que repetir gran parte del esfuerzo proyecto a proyecto.\n",
    "\n",
    "Por este motivo, trabajaremos en un entorno especialmente diseñado para experimentación, en el que gran parte del trabajo ya está realizado y los datos se encuentran procesados en un formato legible y cómodo. Dichos datos nos servirán de *benchmark* para evaluar desde nuestras técnicas de preprocesamiento hasta los modelos que construyamos. Esto permitirá solucionar el problema desde un punto de vista análitico y dejar la integración tecnológica para más adelante.\n",
    "\n",
    "Concretamente, haremos uso de uno de los formatos más sencillos y expresivos de datos estructurados que existen: `csv`. Un fichero `csv` no es más que un fichero de texto plano donde los datos se almacenan a modo de matriz, en la que cada fila empieza en una nueva línea y cada valor está separado por comas. Al ser ficheros de texto plano se pueden editar con cualquier procesador de texto. Por convención, estos ficheros se guardan con extensión `csv` en lugar de `txt`.\n",
    "\n",
    "De manera adicional a los datos es muy común incluir una primera fila de cabecera indicando el nombre de cada columna.\n",
    "\n",
    "---\n",
    "\n",
    "**Palabras clave**:\n",
    "\n",
    "* Las filas se denominan **instancias**, **casos** o **ejemplos**.\n",
    "* Las columnas son **variables** de nuestro problema.\n",
    "\n",
    "---"
   ]
  },
  {
   "cell_type": "markdown",
   "metadata": {
    "papermill": {
     "duration": 0.048574,
     "end_time": "2020-12-10T16:06:57.165965",
     "exception": false,
     "start_time": "2020-12-10T16:06:57.117391",
     "status": "completed"
    },
    "tags": []
   },
   "source": [
    "El conjunto de datos que vamos a emplear es `iris`. Este fue creado en 1936 por el estadístico y biólogo Ronald Fisher. Se trata de un conjunto de datos muy utilizado, ya que presenta una serie de propiedades que lo hacen ideal para introducirse en este campo. Este contiene 150 muestras tomadas de 3 especies de flores:\n",
    "\n",
    "* `Iris-setosa`\n",
    "* `Iris-virginica`\n",
    "* `Iris-versicolor`\n",
    "\n",
    "Que conforman los valores de la variable a predecir (`Species`). Para cada una de las flores se han realizado una serie de mediciones correspondientes a las variables predictoras del problema:\n",
    "\n",
    "* `SepalLengthCm`: Longitud del sépalo (en centímetros)\n",
    "* `SepalWidthCm`: Anchura del sépalo (en centímetros)\n",
    "* `PetalLengthCm`: Longitud del pétalo (en centímetros)\n",
    "* `PetalWidthCm`: Anchura del pétalo (en centímetros)\n",
    "\n",
    "El objetivo sería clasificar una nueva instancia (cuya especie es desconocida) en función de sus propiedades.\n",
    "\n",
    "---\n",
    "\n",
    "**Palabras clave:**\n",
    "\n",
    "* La variable del conjunto de datos a predecir se denomina **variable objetivo** (t.c.c. **variable clase** en problemas de clasificación).\n",
    "\n",
    "* El conjunto de **características** o **variables predictoras** es el conjunto de datos sin la variable objetivo (únicamente con las variables que se utilizan para predecirla).\n",
    "\n",
    "---"
   ]
  },
  {
   "cell_type": "markdown",
   "metadata": {
    "papermill": {
     "duration": 0.048097,
     "end_time": "2020-12-10T16:06:57.264170",
     "exception": false,
     "start_time": "2020-12-10T16:06:57.216073",
     "status": "completed"
    },
    "tags": []
   },
   "source": [
    "Vamos a comenzar cargando el conjunto de datos `iris`:"
   ]
  },
  {
   "cell_type": "code",
   "execution_count": 5,
   "metadata": {},
   "outputs": [],
   "source": [
    "import pandas as pd"
   ]
  },
  {
   "cell_type": "code",
   "execution_count": 6,
   "metadata": {},
   "outputs": [],
   "source": [
    "data = pd.read_csv(\"../input/iris/Iris.csv\", index_col=\"Id\")"
   ]
  },
  {
   "cell_type": "code",
   "execution_count": 7,
   "metadata": {},
   "outputs": [],
   "source": [
    "target = \"Species\""
   ]
  },
  {
   "cell_type": "code",
   "execution_count": 8,
   "metadata": {},
   "outputs": [],
   "source": [
    "data[target] = data[target].astype(\"category\")"
   ]
  },
  {
   "cell_type": "markdown",
   "metadata": {
    "_uuid": "23f95e5c93b4393a2030093eaa21956ac96b88fc",
    "papermill": {
     "duration": 0.048071,
     "end_time": "2020-12-10T16:06:57.487382",
     "exception": false,
     "start_time": "2020-12-10T16:06:57.439311",
     "status": "completed"
    },
    "tags": []
   },
   "source": [
    "Nótese que se ha especificado cuál es la variable correspondiente al identificador de casos del conjunto de datos (`Id`) y la variable clase (`Species`).\n",
    "\n",
    "Una vez hemos cargado el conjunto de datos es fundamental comprobar que el proceso ha funcionado sin problemas, y que las variables y los valores están dentro de lo esperado. Para ello, podemos mostrar las primeras instancias del conjunto de datos o escoger una al azar.\n",
    "\n",
    "Para obtener las `n` primeras instancias del conjunto de datos podemos usar la función `head`:"
   ]
  },
  {
   "cell_type": "code",
   "execution_count": 9,
   "metadata": {
    "_uuid": "40e7c0685585665698306298e77530096dffc559",
    "execution": {
     "iopub.execute_input": "2020-12-10T16:06:57.596876Z",
     "iopub.status.busy": "2020-12-10T16:06:57.596173Z",
     "iopub.status.idle": "2020-12-10T16:06:57.607934Z",
     "shell.execute_reply": "2020-12-10T16:06:57.607401Z"
    },
    "papermill": {
     "duration": 0.072425,
     "end_time": "2020-12-10T16:06:57.608050",
     "exception": false,
     "start_time": "2020-12-10T16:06:57.535625",
     "status": "completed"
    },
    "scrolled": true,
    "tags": []
   },
   "outputs": [
    {
     "data": {
      "text/html": [
       "<div>\n",
       "<style scoped>\n",
       "    .dataframe tbody tr th:only-of-type {\n",
       "        vertical-align: middle;\n",
       "    }\n",
       "\n",
       "    .dataframe tbody tr th {\n",
       "        vertical-align: top;\n",
       "    }\n",
       "\n",
       "    .dataframe thead th {\n",
       "        text-align: right;\n",
       "    }\n",
       "</style>\n",
       "<table border=\"1\" class=\"dataframe\">\n",
       "  <thead>\n",
       "    <tr style=\"text-align: right;\">\n",
       "      <th></th>\n",
       "      <th>SepalLengthCm</th>\n",
       "      <th>SepalWidthCm</th>\n",
       "      <th>PetalLengthCm</th>\n",
       "      <th>PetalWidthCm</th>\n",
       "      <th>Species</th>\n",
       "    </tr>\n",
       "    <tr>\n",
       "      <th>Id</th>\n",
       "      <th></th>\n",
       "      <th></th>\n",
       "      <th></th>\n",
       "      <th></th>\n",
       "      <th></th>\n",
       "    </tr>\n",
       "  </thead>\n",
       "  <tbody>\n",
       "    <tr>\n",
       "      <th>1</th>\n",
       "      <td>5.1</td>\n",
       "      <td>3.5</td>\n",
       "      <td>1.4</td>\n",
       "      <td>0.2</td>\n",
       "      <td>Iris-setosa</td>\n",
       "    </tr>\n",
       "    <tr>\n",
       "      <th>2</th>\n",
       "      <td>4.9</td>\n",
       "      <td>3.0</td>\n",
       "      <td>1.4</td>\n",
       "      <td>0.2</td>\n",
       "      <td>Iris-setosa</td>\n",
       "    </tr>\n",
       "    <tr>\n",
       "      <th>3</th>\n",
       "      <td>4.7</td>\n",
       "      <td>3.2</td>\n",
       "      <td>1.3</td>\n",
       "      <td>0.2</td>\n",
       "      <td>Iris-setosa</td>\n",
       "    </tr>\n",
       "    <tr>\n",
       "      <th>4</th>\n",
       "      <td>4.6</td>\n",
       "      <td>3.1</td>\n",
       "      <td>1.5</td>\n",
       "      <td>0.2</td>\n",
       "      <td>Iris-setosa</td>\n",
       "    </tr>\n",
       "    <tr>\n",
       "      <th>5</th>\n",
       "      <td>5.0</td>\n",
       "      <td>3.6</td>\n",
       "      <td>1.4</td>\n",
       "      <td>0.2</td>\n",
       "      <td>Iris-setosa</td>\n",
       "    </tr>\n",
       "  </tbody>\n",
       "</table>\n",
       "</div>"
      ],
      "text/plain": [
       "    SepalLengthCm  SepalWidthCm  PetalLengthCm  PetalWidthCm      Species\n",
       "Id                                                                       \n",
       "1             5.1           3.5            1.4           0.2  Iris-setosa\n",
       "2             4.9           3.0            1.4           0.2  Iris-setosa\n",
       "3             4.7           3.2            1.3           0.2  Iris-setosa\n",
       "4             4.6           3.1            1.5           0.2  Iris-setosa\n",
       "5             5.0           3.6            1.4           0.2  Iris-setosa"
      ]
     },
     "execution_count": 9,
     "metadata": {},
     "output_type": "execute_result"
    }
   ],
   "source": [
    "data.head(5)"
   ]
  },
  {
   "cell_type": "markdown",
   "metadata": {
    "_uuid": "824483a7043f1d954653271b68fdfe8da270f299",
    "papermill": {
     "duration": 0.048973,
     "end_time": "2020-12-10T16:06:57.708415",
     "exception": false,
     "start_time": "2020-12-10T16:06:57.659442",
     "status": "completed"
    },
    "tags": []
   },
   "source": [
    "Esta función es muy útil para comprobaciones rápidas, pero no hay que olvidar que las instancias siempre serán las primeras en orden consecutivo. Esto puede ser un problema si queremos hacer alguna comprobación estadística, ya que la muestra estará sesgada.\n",
    "\n",
    "Para evitar este problema, lo ideal es obtener una muestra aleatoria del conjunto de datos con `sample`:\n",
    "\n",
    "--------------\n",
    "\n",
    "**Palabras clave**:\n",
    "\n",
    "- Una **muestra sesgada** es aquella que no hemos obtenido con la aleatoriedad suficiente como para que sea representativa de todo el conjunto de datos.\n",
    "\n",
    "---------------"
   ]
  },
  {
   "cell_type": "code",
   "execution_count": 10,
   "metadata": {
    "_uuid": "9f1a39585fceb516af8ddcf5afd85945b50c418a",
    "execution": {
     "iopub.execute_input": "2020-12-10T16:06:57.824647Z",
     "iopub.status.busy": "2020-12-10T16:06:57.823634Z",
     "iopub.status.idle": "2020-12-10T16:06:57.829068Z",
     "shell.execute_reply": "2020-12-10T16:06:57.828445Z"
    },
    "papermill": {
     "duration": 0.070804,
     "end_time": "2020-12-10T16:06:57.829192",
     "exception": false,
     "start_time": "2020-12-10T16:06:57.758388",
     "status": "completed"
    },
    "tags": []
   },
   "outputs": [
    {
     "data": {
      "text/html": [
       "<div>\n",
       "<style scoped>\n",
       "    .dataframe tbody tr th:only-of-type {\n",
       "        vertical-align: middle;\n",
       "    }\n",
       "\n",
       "    .dataframe tbody tr th {\n",
       "        vertical-align: top;\n",
       "    }\n",
       "\n",
       "    .dataframe thead th {\n",
       "        text-align: right;\n",
       "    }\n",
       "</style>\n",
       "<table border=\"1\" class=\"dataframe\">\n",
       "  <thead>\n",
       "    <tr style=\"text-align: right;\">\n",
       "      <th></th>\n",
       "      <th>SepalLengthCm</th>\n",
       "      <th>SepalWidthCm</th>\n",
       "      <th>PetalLengthCm</th>\n",
       "      <th>PetalWidthCm</th>\n",
       "      <th>Species</th>\n",
       "    </tr>\n",
       "    <tr>\n",
       "      <th>Id</th>\n",
       "      <th></th>\n",
       "      <th></th>\n",
       "      <th></th>\n",
       "      <th></th>\n",
       "      <th></th>\n",
       "    </tr>\n",
       "  </thead>\n",
       "  <tbody>\n",
       "    <tr>\n",
       "      <th>106</th>\n",
       "      <td>7.6</td>\n",
       "      <td>3.0</td>\n",
       "      <td>6.6</td>\n",
       "      <td>2.1</td>\n",
       "      <td>Iris-virginica</td>\n",
       "    </tr>\n",
       "    <tr>\n",
       "      <th>133</th>\n",
       "      <td>6.4</td>\n",
       "      <td>2.8</td>\n",
       "      <td>5.6</td>\n",
       "      <td>2.2</td>\n",
       "      <td>Iris-virginica</td>\n",
       "    </tr>\n",
       "    <tr>\n",
       "      <th>132</th>\n",
       "      <td>7.9</td>\n",
       "      <td>3.8</td>\n",
       "      <td>6.4</td>\n",
       "      <td>2.0</td>\n",
       "      <td>Iris-virginica</td>\n",
       "    </tr>\n",
       "    <tr>\n",
       "      <th>52</th>\n",
       "      <td>6.4</td>\n",
       "      <td>3.2</td>\n",
       "      <td>4.5</td>\n",
       "      <td>1.5</td>\n",
       "      <td>Iris-versicolor</td>\n",
       "    </tr>\n",
       "    <tr>\n",
       "      <th>48</th>\n",
       "      <td>4.6</td>\n",
       "      <td>3.2</td>\n",
       "      <td>1.4</td>\n",
       "      <td>0.2</td>\n",
       "      <td>Iris-setosa</td>\n",
       "    </tr>\n",
       "  </tbody>\n",
       "</table>\n",
       "</div>"
      ],
      "text/plain": [
       "     SepalLengthCm  SepalWidthCm  PetalLengthCm  PetalWidthCm          Species\n",
       "Id                                                                            \n",
       "106            7.6           3.0            6.6           2.1   Iris-virginica\n",
       "133            6.4           2.8            5.6           2.2   Iris-virginica\n",
       "132            7.9           3.8            6.4           2.0   Iris-virginica\n",
       "52             6.4           3.2            4.5           1.5  Iris-versicolor\n",
       "48             4.6           3.2            1.4           0.2      Iris-setosa"
      ]
     },
     "execution_count": 10,
     "metadata": {},
     "output_type": "execute_result"
    }
   ],
   "source": [
    "data.sample(5, random_state=random_state)"
   ]
  },
  {
   "cell_type": "markdown",
   "metadata": {
    "_uuid": "a43dd350512365db94a69a5a6f6cf0828e7afb9f",
    "papermill": {
     "duration": 0.049649,
     "end_time": "2020-12-10T16:06:57.929685",
     "exception": false,
     "start_time": "2020-12-10T16:06:57.880036",
     "status": "completed"
    },
    "tags": []
   },
   "source": [
    "Es muy útil disponer del conjunto de datos separado dos subconjuntos, uno con las variables predictoras (`X`) y otro con la variable objetivo (`y`). Se puede utilizar el siguiente fragmento de código para dividirlo: "
   ]
  },
  {
   "cell_type": "code",
   "execution_count": 11,
   "metadata": {
    "_uuid": "77c75aa49e6cd91426d1de882b7feaa0a883fcdb",
    "execution": {
     "iopub.execute_input": "2020-12-10T16:06:58.036963Z",
     "iopub.status.busy": "2020-12-10T16:06:58.036143Z",
     "iopub.status.idle": "2020-12-10T16:06:58.039385Z",
     "shell.execute_reply": "2020-12-10T16:06:58.038623Z"
    },
    "papermill": {
     "duration": 0.059936,
     "end_time": "2020-12-10T16:06:58.039507",
     "exception": false,
     "start_time": "2020-12-10T16:06:57.979571",
     "status": "completed"
    },
    "tags": []
   },
   "outputs": [],
   "source": [
    "X = data.drop(target, axis=1)"
   ]
  },
  {
   "cell_type": "code",
   "execution_count": 12,
   "metadata": {},
   "outputs": [],
   "source": [
    "y = data[target]"
   ]
  },
  {
   "cell_type": "markdown",
   "metadata": {
    "papermill": {
     "duration": 0.050025,
     "end_time": "2020-12-10T16:06:58.139535",
     "exception": false,
     "start_time": "2020-12-10T16:06:58.089510",
     "status": "completed"
    },
    "tags": []
   },
   "source": [
    "De nuevo, comprobamos que se haya separado correctamente. Comenzamos con las variables predictoras:"
   ]
  },
  {
   "cell_type": "code",
   "execution_count": 13,
   "metadata": {
    "execution": {
     "iopub.execute_input": "2020-12-10T16:06:58.275969Z",
     "iopub.status.busy": "2020-12-10T16:06:58.275240Z",
     "iopub.status.idle": "2020-12-10T16:06:58.282071Z",
     "shell.execute_reply": "2020-12-10T16:06:58.281412Z"
    },
    "papermill": {
     "duration": 0.088968,
     "end_time": "2020-12-10T16:06:58.282188",
     "exception": false,
     "start_time": "2020-12-10T16:06:58.193220",
     "status": "completed"
    },
    "tags": []
   },
   "outputs": [
    {
     "data": {
      "text/html": [
       "<div>\n",
       "<style scoped>\n",
       "    .dataframe tbody tr th:only-of-type {\n",
       "        vertical-align: middle;\n",
       "    }\n",
       "\n",
       "    .dataframe tbody tr th {\n",
       "        vertical-align: top;\n",
       "    }\n",
       "\n",
       "    .dataframe thead th {\n",
       "        text-align: right;\n",
       "    }\n",
       "</style>\n",
       "<table border=\"1\" class=\"dataframe\">\n",
       "  <thead>\n",
       "    <tr style=\"text-align: right;\">\n",
       "      <th></th>\n",
       "      <th>SepalLengthCm</th>\n",
       "      <th>SepalWidthCm</th>\n",
       "      <th>PetalLengthCm</th>\n",
       "      <th>PetalWidthCm</th>\n",
       "    </tr>\n",
       "    <tr>\n",
       "      <th>Id</th>\n",
       "      <th></th>\n",
       "      <th></th>\n",
       "      <th></th>\n",
       "      <th></th>\n",
       "    </tr>\n",
       "  </thead>\n",
       "  <tbody>\n",
       "    <tr>\n",
       "      <th>106</th>\n",
       "      <td>7.6</td>\n",
       "      <td>3.0</td>\n",
       "      <td>6.6</td>\n",
       "      <td>2.1</td>\n",
       "    </tr>\n",
       "    <tr>\n",
       "      <th>133</th>\n",
       "      <td>6.4</td>\n",
       "      <td>2.8</td>\n",
       "      <td>5.6</td>\n",
       "      <td>2.2</td>\n",
       "    </tr>\n",
       "    <tr>\n",
       "      <th>132</th>\n",
       "      <td>7.9</td>\n",
       "      <td>3.8</td>\n",
       "      <td>6.4</td>\n",
       "      <td>2.0</td>\n",
       "    </tr>\n",
       "    <tr>\n",
       "      <th>52</th>\n",
       "      <td>6.4</td>\n",
       "      <td>3.2</td>\n",
       "      <td>4.5</td>\n",
       "      <td>1.5</td>\n",
       "    </tr>\n",
       "    <tr>\n",
       "      <th>48</th>\n",
       "      <td>4.6</td>\n",
       "      <td>3.2</td>\n",
       "      <td>1.4</td>\n",
       "      <td>0.2</td>\n",
       "    </tr>\n",
       "  </tbody>\n",
       "</table>\n",
       "</div>"
      ],
      "text/plain": [
       "     SepalLengthCm  SepalWidthCm  PetalLengthCm  PetalWidthCm\n",
       "Id                                                           \n",
       "106            7.6           3.0            6.6           2.1\n",
       "133            6.4           2.8            5.6           2.2\n",
       "132            7.9           3.8            6.4           2.0\n",
       "52             6.4           3.2            4.5           1.5\n",
       "48             4.6           3.2            1.4           0.2"
      ]
     },
     "execution_count": 13,
     "metadata": {},
     "output_type": "execute_result"
    }
   ],
   "source": [
    "X.sample(5, random_state=random_state)"
   ]
  },
  {
   "cell_type": "markdown",
   "metadata": {
    "papermill": {
     "duration": 0.050842,
     "end_time": "2020-12-10T16:06:58.395318",
     "exception": false,
     "start_time": "2020-12-10T16:06:58.344476",
     "status": "completed"
    },
    "tags": []
   },
   "source": [
    "Y continuamos con la variable clase:"
   ]
  },
  {
   "cell_type": "code",
   "execution_count": 14,
   "metadata": {
    "execution": {
     "iopub.execute_input": "2020-12-10T16:06:58.507478Z",
     "iopub.status.busy": "2020-12-10T16:06:58.506811Z",
     "iopub.status.idle": "2020-12-10T16:06:58.510262Z",
     "shell.execute_reply": "2020-12-10T16:06:58.510731Z"
    },
    "papermill": {
     "duration": 0.064257,
     "end_time": "2020-12-10T16:06:58.510898",
     "exception": false,
     "start_time": "2020-12-10T16:06:58.446641",
     "status": "completed"
    },
    "tags": []
   },
   "outputs": [
    {
     "data": {
      "text/plain": [
       "Id\n",
       "106     Iris-virginica\n",
       "133     Iris-virginica\n",
       "132     Iris-virginica\n",
       "52     Iris-versicolor\n",
       "48         Iris-setosa\n",
       "Name: Species, dtype: category\n",
       "Categories (3, object): ['Iris-setosa', 'Iris-versicolor', 'Iris-virginica']"
      ]
     },
     "execution_count": 14,
     "metadata": {},
     "output_type": "execute_result"
    }
   ],
   "source": [
    "y.sample(5, random_state=random_state)"
   ]
  },
  {
   "cell_type": "markdown",
   "metadata": {
    "papermill": {
     "duration": 0.051559,
     "end_time": "2020-12-10T16:06:58.614043",
     "exception": false,
     "start_time": "2020-12-10T16:06:58.562484",
     "status": "completed"
    },
    "tags": []
   },
   "source": [
    "Si bien podríamos comenzar con el análisis exploratorio es fundamental separar nuestro conjunto de datos **como mínimo** en dos:\n",
    "\n",
    "* Una muestra de entrenamiento (típicamente, 70%)\n",
    "* Una muestra de prueba (típicamente, 30%)\n",
    "\n",
    "En un proceso conocido como *holdout*. De este modo, podemos dejar el conjunto de prueba a modo de instancias no observadas para asegurarnos que los resultados de validación han sido estimados de manera honesta (y no optimista). De hecho, si utilizamos el mismo conjunto de datos para aprender y validar un modelo, observaremos un resultado inusual y es que, conforme más sobreajustado está el modelo, menor es el error cometido.\n",
    "\n",
    "Para realizar un *holdout* podemos utilizar el método `train_test_split` de `scikit-learn`:\n",
    "\n",
    "---\n",
    "\n",
    "**Palabras clave:**\n",
    "\n",
    "* Decimos que un modelo está **sobreajustado** cuando sus parámetros se han aprendido de manera que intentan reproducir perfectamente el conjunto de entrenamiento (de los que conocemos su resultado). Este sobre-entrenamiento (***overfitting***) implica que al modelo le costará más discriminar nuevos casos que presenten datos que nunca han sido observados, presentando un mayor nivel de error en su uso en el mundo real. Cuando un clasificador se aprende de manera que se elimina el sobre-entrenamiento se dice que **generaliza**.\n",
    "\n",
    "---"
   ]
  },
  {
   "cell_type": "code",
   "execution_count": 15,
   "metadata": {},
   "outputs": [],
   "source": [
    "from sklearn.model_selection import train_test_split"
   ]
  },
  {
   "cell_type": "code",
   "execution_count": 16,
   "metadata": {
    "execution": {
     "iopub.execute_input": "2020-12-10T16:06:58.727394Z",
     "iopub.status.busy": "2020-12-10T16:06:58.726627Z",
     "iopub.status.idle": "2020-12-10T16:06:58.733634Z",
     "shell.execute_reply": "2020-12-10T16:06:58.732968Z"
    },
    "papermill": {
     "duration": 0.065243,
     "end_time": "2020-12-10T16:06:58.733775",
     "exception": false,
     "start_time": "2020-12-10T16:06:58.668532",
     "status": "completed"
    },
    "tags": []
   },
   "outputs": [],
   "source": [
    "X_train, X_test, y_train, y_test = train_test_split(X, y, stratify=y, random_state=random_state, train_size=0.7)"
   ]
  },
  {
   "cell_type": "markdown",
   "metadata": {
    "papermill": {
     "duration": 0.05163,
     "end_time": "2020-12-10T16:06:58.836686",
     "exception": false,
     "start_time": "2020-12-10T16:06:58.785056",
     "status": "completed"
    },
    "tags": []
   },
   "source": [
    "Por defecto, las instancias del conjunto de datos se aleatorizan antes de realizar el *holdout*. Esto es muy importante para evitar que, en conjunto de datos ordenados por los valores de la variable clase (como ocurre en `iris`) eliminemos, de uno de los conjuntos, todas las instancias de una (o varias) clase (o clases).\n",
    "\n",
    "Por otro lado, la semilla se establece mediante el parámetro `random_state`. Este es necesario para que en el proceso de *holdout* siempre se realicen las mismas particiones de entrenamiento y prueba, y así podamos garantizar la reproducibilidad de los experimentos.\n",
    "\n",
    "Por último, comentar que se ha aplicado un *holdout* estratificado (`stratify=y`), esto es, se ha preservado la proporción de ejemplos de cada clase durante la división. Esto es importante en casos complejos (p.e., problemas desbalanceados) para evitar eliminar gran cantidad de información (aleatorizar el conjunto de datos puede no ser suficiente).\n",
    "\n",
    "De nuevo, vamos a asegurarnos de que el conjunto de datos se ha dividido correctamente en entrenamiento y prueba. Comenzamos con las variables predictoras del conjunto de datos de entrenamiento:"
   ]
  },
  {
   "cell_type": "code",
   "execution_count": 17,
   "metadata": {
    "execution": {
     "iopub.execute_input": "2020-12-10T16:06:58.954128Z",
     "iopub.status.busy": "2020-12-10T16:06:58.953184Z",
     "iopub.status.idle": "2020-12-10T16:06:58.957609Z",
     "shell.execute_reply": "2020-12-10T16:06:58.958132Z"
    },
    "papermill": {
     "duration": 0.069706,
     "end_time": "2020-12-10T16:06:58.958282",
     "exception": false,
     "start_time": "2020-12-10T16:06:58.888576",
     "status": "completed"
    },
    "tags": []
   },
   "outputs": [
    {
     "data": {
      "text/html": [
       "<div>\n",
       "<style scoped>\n",
       "    .dataframe tbody tr th:only-of-type {\n",
       "        vertical-align: middle;\n",
       "    }\n",
       "\n",
       "    .dataframe tbody tr th {\n",
       "        vertical-align: top;\n",
       "    }\n",
       "\n",
       "    .dataframe thead th {\n",
       "        text-align: right;\n",
       "    }\n",
       "</style>\n",
       "<table border=\"1\" class=\"dataframe\">\n",
       "  <thead>\n",
       "    <tr style=\"text-align: right;\">\n",
       "      <th></th>\n",
       "      <th>SepalLengthCm</th>\n",
       "      <th>SepalWidthCm</th>\n",
       "      <th>PetalLengthCm</th>\n",
       "      <th>PetalWidthCm</th>\n",
       "    </tr>\n",
       "    <tr>\n",
       "      <th>Id</th>\n",
       "      <th></th>\n",
       "      <th></th>\n",
       "      <th></th>\n",
       "      <th></th>\n",
       "    </tr>\n",
       "  </thead>\n",
       "  <tbody>\n",
       "    <tr>\n",
       "      <th>49</th>\n",
       "      <td>5.3</td>\n",
       "      <td>3.7</td>\n",
       "      <td>1.5</td>\n",
       "      <td>0.2</td>\n",
       "    </tr>\n",
       "    <tr>\n",
       "      <th>33</th>\n",
       "      <td>5.2</td>\n",
       "      <td>4.1</td>\n",
       "      <td>1.5</td>\n",
       "      <td>0.1</td>\n",
       "    </tr>\n",
       "    <tr>\n",
       "      <th>66</th>\n",
       "      <td>6.7</td>\n",
       "      <td>3.1</td>\n",
       "      <td>4.4</td>\n",
       "      <td>1.4</td>\n",
       "    </tr>\n",
       "    <tr>\n",
       "      <th>63</th>\n",
       "      <td>6.0</td>\n",
       "      <td>2.2</td>\n",
       "      <td>4.0</td>\n",
       "      <td>1.0</td>\n",
       "    </tr>\n",
       "    <tr>\n",
       "      <th>111</th>\n",
       "      <td>6.5</td>\n",
       "      <td>3.2</td>\n",
       "      <td>5.1</td>\n",
       "      <td>2.0</td>\n",
       "    </tr>\n",
       "  </tbody>\n",
       "</table>\n",
       "</div>"
      ],
      "text/plain": [
       "     SepalLengthCm  SepalWidthCm  PetalLengthCm  PetalWidthCm\n",
       "Id                                                           \n",
       "49             5.3           3.7            1.5           0.2\n",
       "33             5.2           4.1            1.5           0.1\n",
       "66             6.7           3.1            4.4           1.4\n",
       "63             6.0           2.2            4.0           1.0\n",
       "111            6.5           3.2            5.1           2.0"
      ]
     },
     "execution_count": 17,
     "metadata": {},
     "output_type": "execute_result"
    }
   ],
   "source": [
    "X_train.sample(5, random_state=random_state)"
   ]
  },
  {
   "cell_type": "markdown",
   "metadata": {
    "papermill": {
     "duration": 0.052364,
     "end_time": "2020-12-10T16:06:59.062906",
     "exception": false,
     "start_time": "2020-12-10T16:06:59.010542",
     "status": "completed"
    },
    "tags": []
   },
   "source": [
    "Y prueba:"
   ]
  },
  {
   "cell_type": "code",
   "execution_count": 18,
   "metadata": {
    "execution": {
     "iopub.execute_input": "2020-12-10T16:06:59.184399Z",
     "iopub.status.busy": "2020-12-10T16:06:59.183625Z",
     "iopub.status.idle": "2020-12-10T16:06:59.187677Z",
     "shell.execute_reply": "2020-12-10T16:06:59.186895Z"
    },
    "papermill": {
     "duration": 0.071685,
     "end_time": "2020-12-10T16:06:59.187822",
     "exception": false,
     "start_time": "2020-12-10T16:06:59.116137",
     "status": "completed"
    },
    "tags": []
   },
   "outputs": [
    {
     "data": {
      "text/html": [
       "<div>\n",
       "<style scoped>\n",
       "    .dataframe tbody tr th:only-of-type {\n",
       "        vertical-align: middle;\n",
       "    }\n",
       "\n",
       "    .dataframe tbody tr th {\n",
       "        vertical-align: top;\n",
       "    }\n",
       "\n",
       "    .dataframe thead th {\n",
       "        text-align: right;\n",
       "    }\n",
       "</style>\n",
       "<table border=\"1\" class=\"dataframe\">\n",
       "  <thead>\n",
       "    <tr style=\"text-align: right;\">\n",
       "      <th></th>\n",
       "      <th>SepalLengthCm</th>\n",
       "      <th>SepalWidthCm</th>\n",
       "      <th>PetalLengthCm</th>\n",
       "      <th>PetalWidthCm</th>\n",
       "    </tr>\n",
       "    <tr>\n",
       "      <th>Id</th>\n",
       "      <th></th>\n",
       "      <th></th>\n",
       "      <th></th>\n",
       "      <th></th>\n",
       "    </tr>\n",
       "  </thead>\n",
       "  <tbody>\n",
       "    <tr>\n",
       "      <th>88</th>\n",
       "      <td>6.3</td>\n",
       "      <td>2.3</td>\n",
       "      <td>4.4</td>\n",
       "      <td>1.3</td>\n",
       "    </tr>\n",
       "    <tr>\n",
       "      <th>6</th>\n",
       "      <td>5.4</td>\n",
       "      <td>3.9</td>\n",
       "      <td>1.7</td>\n",
       "      <td>0.4</td>\n",
       "    </tr>\n",
       "    <tr>\n",
       "      <th>109</th>\n",
       "      <td>6.7</td>\n",
       "      <td>2.5</td>\n",
       "      <td>5.8</td>\n",
       "      <td>1.8</td>\n",
       "    </tr>\n",
       "    <tr>\n",
       "      <th>91</th>\n",
       "      <td>5.5</td>\n",
       "      <td>2.6</td>\n",
       "      <td>4.4</td>\n",
       "      <td>1.2</td>\n",
       "    </tr>\n",
       "    <tr>\n",
       "      <th>28</th>\n",
       "      <td>5.2</td>\n",
       "      <td>3.5</td>\n",
       "      <td>1.5</td>\n",
       "      <td>0.2</td>\n",
       "    </tr>\n",
       "  </tbody>\n",
       "</table>\n",
       "</div>"
      ],
      "text/plain": [
       "     SepalLengthCm  SepalWidthCm  PetalLengthCm  PetalWidthCm\n",
       "Id                                                           \n",
       "88             6.3           2.3            4.4           1.3\n",
       "6              5.4           3.9            1.7           0.4\n",
       "109            6.7           2.5            5.8           1.8\n",
       "91             5.5           2.6            4.4           1.2\n",
       "28             5.2           3.5            1.5           0.2"
      ]
     },
     "execution_count": 18,
     "metadata": {},
     "output_type": "execute_result"
    }
   ],
   "source": [
    "X_test.sample(5, random_state=random_state)"
   ]
  },
  {
   "cell_type": "markdown",
   "metadata": {
    "papermill": {
     "duration": 0.057539,
     "end_time": "2020-12-10T16:06:59.302779",
     "exception": false,
     "start_time": "2020-12-10T16:06:59.245240",
     "status": "completed"
    },
    "tags": []
   },
   "source": [
    "Por último, finalizamos con la variable objetivo del conjunto de datos de entrenamiento:"
   ]
  },
  {
   "cell_type": "code",
   "execution_count": 19,
   "metadata": {
    "execution": {
     "iopub.execute_input": "2020-12-10T16:06:59.418085Z",
     "iopub.status.busy": "2020-12-10T16:06:59.417417Z",
     "iopub.status.idle": "2020-12-10T16:06:59.422548Z",
     "shell.execute_reply": "2020-12-10T16:06:59.421937Z"
    },
    "papermill": {
     "duration": 0.06571,
     "end_time": "2020-12-10T16:06:59.422654",
     "exception": false,
     "start_time": "2020-12-10T16:06:59.356944",
     "status": "completed"
    },
    "tags": []
   },
   "outputs": [
    {
     "data": {
      "text/plain": [
       "Id\n",
       "49         Iris-setosa\n",
       "33         Iris-setosa\n",
       "66     Iris-versicolor\n",
       "63     Iris-versicolor\n",
       "111     Iris-virginica\n",
       "Name: Species, dtype: category\n",
       "Categories (3, object): ['Iris-setosa', 'Iris-versicolor', 'Iris-virginica']"
      ]
     },
     "execution_count": 19,
     "metadata": {},
     "output_type": "execute_result"
    }
   ],
   "source": [
    "y_train.sample(5, random_state=random_state)"
   ]
  },
  {
   "cell_type": "markdown",
   "metadata": {
    "papermill": {
     "duration": 0.054209,
     "end_time": "2020-12-10T16:06:59.531396",
     "exception": false,
     "start_time": "2020-12-10T16:06:59.477187",
     "status": "completed"
    },
    "tags": []
   },
   "source": [
    "Y prueba:"
   ]
  },
  {
   "cell_type": "code",
   "execution_count": 20,
   "metadata": {
    "execution": {
     "iopub.execute_input": "2020-12-10T16:06:59.650095Z",
     "iopub.status.busy": "2020-12-10T16:06:59.649442Z",
     "iopub.status.idle": "2020-12-10T16:06:59.652459Z",
     "shell.execute_reply": "2020-12-10T16:06:59.653071Z"
    },
    "papermill": {
     "duration": 0.067927,
     "end_time": "2020-12-10T16:06:59.653215",
     "exception": false,
     "start_time": "2020-12-10T16:06:59.585288",
     "status": "completed"
    },
    "tags": []
   },
   "outputs": [
    {
     "data": {
      "text/plain": [
       "Id\n",
       "88     Iris-versicolor\n",
       "6          Iris-setosa\n",
       "109     Iris-virginica\n",
       "91     Iris-versicolor\n",
       "28         Iris-setosa\n",
       "Name: Species, dtype: category\n",
       "Categories (3, object): ['Iris-setosa', 'Iris-versicolor', 'Iris-virginica']"
      ]
     },
     "execution_count": 20,
     "metadata": {},
     "output_type": "execute_result"
    }
   ],
   "source": [
    "y_test.sample(5, random_state=random_state)"
   ]
  },
  {
   "cell_type": "markdown",
   "metadata": {
    "papermill": {
     "duration": 0.053171,
     "end_time": "2020-12-10T16:06:59.760469",
     "exception": false,
     "start_time": "2020-12-10T16:06:59.707298",
     "status": "completed"
    },
    "tags": []
   },
   "source": [
    "Para facilitar el análisis exploratorio de datos, volvemos a juntar las variables predictoras con la variable clase. Comenzamos con el conjunto de datos de entrenamiento:"
   ]
  },
  {
   "cell_type": "code",
   "execution_count": 21,
   "metadata": {
    "execution": {
     "iopub.execute_input": "2020-12-10T16:06:59.875057Z",
     "iopub.status.busy": "2020-12-10T16:06:59.873905Z",
     "iopub.status.idle": "2020-12-10T16:06:59.877169Z",
     "shell.execute_reply": "2020-12-10T16:06:59.876486Z"
    },
    "papermill": {
     "duration": 0.063592,
     "end_time": "2020-12-10T16:06:59.877289",
     "exception": false,
     "start_time": "2020-12-10T16:06:59.813697",
     "status": "completed"
    },
    "tags": []
   },
   "outputs": [],
   "source": [
    "data_train = X_train.join(y_train)"
   ]
  },
  {
   "cell_type": "markdown",
   "metadata": {
    "papermill": {
     "duration": 0.054994,
     "end_time": "2020-12-10T16:06:59.988322",
     "exception": false,
     "start_time": "2020-12-10T16:06:59.933328",
     "status": "completed"
    },
    "tags": []
   },
   "source": [
    "Y continuamos con el conjunto de datos de prueba:"
   ]
  },
  {
   "cell_type": "code",
   "execution_count": 22,
   "metadata": {
    "execution": {
     "iopub.execute_input": "2020-12-10T16:07:00.103676Z",
     "iopub.status.busy": "2020-12-10T16:07:00.102746Z",
     "iopub.status.idle": "2020-12-10T16:07:00.106176Z",
     "shell.execute_reply": "2020-12-10T16:07:00.105424Z"
    },
    "papermill": {
     "duration": 0.063227,
     "end_time": "2020-12-10T16:07:00.106288",
     "exception": false,
     "start_time": "2020-12-10T16:07:00.043061",
     "status": "completed"
    },
    "tags": []
   },
   "outputs": [],
   "source": [
    "data_test = X_test.join(y_test)"
   ]
  },
  {
   "cell_type": "markdown",
   "metadata": {
    "papermill": {
     "duration": 0.053896,
     "end_time": "2020-12-10T16:07:00.214909",
     "exception": false,
     "start_time": "2020-12-10T16:07:00.161013",
     "status": "completed"
    },
    "tags": []
   },
   "source": [
    "Para asegurarnos de que se han juntado correctamente, obtenemos una muestra aleatoria del conjunto de datos de entrenamiento:"
   ]
  },
  {
   "cell_type": "code",
   "execution_count": 23,
   "metadata": {
    "execution": {
     "iopub.execute_input": "2020-12-10T16:07:00.340609Z",
     "iopub.status.busy": "2020-12-10T16:07:00.339616Z",
     "iopub.status.idle": "2020-12-10T16:07:00.344359Z",
     "shell.execute_reply": "2020-12-10T16:07:00.344839Z"
    },
    "papermill": {
     "duration": 0.075327,
     "end_time": "2020-12-10T16:07:00.344985",
     "exception": false,
     "start_time": "2020-12-10T16:07:00.269658",
     "status": "completed"
    },
    "tags": []
   },
   "outputs": [
    {
     "data": {
      "text/html": [
       "<div>\n",
       "<style scoped>\n",
       "    .dataframe tbody tr th:only-of-type {\n",
       "        vertical-align: middle;\n",
       "    }\n",
       "\n",
       "    .dataframe tbody tr th {\n",
       "        vertical-align: top;\n",
       "    }\n",
       "\n",
       "    .dataframe thead th {\n",
       "        text-align: right;\n",
       "    }\n",
       "</style>\n",
       "<table border=\"1\" class=\"dataframe\">\n",
       "  <thead>\n",
       "    <tr style=\"text-align: right;\">\n",
       "      <th></th>\n",
       "      <th>SepalLengthCm</th>\n",
       "      <th>SepalWidthCm</th>\n",
       "      <th>PetalLengthCm</th>\n",
       "      <th>PetalWidthCm</th>\n",
       "      <th>Species</th>\n",
       "    </tr>\n",
       "    <tr>\n",
       "      <th>Id</th>\n",
       "      <th></th>\n",
       "      <th></th>\n",
       "      <th></th>\n",
       "      <th></th>\n",
       "      <th></th>\n",
       "    </tr>\n",
       "  </thead>\n",
       "  <tbody>\n",
       "    <tr>\n",
       "      <th>49</th>\n",
       "      <td>5.3</td>\n",
       "      <td>3.7</td>\n",
       "      <td>1.5</td>\n",
       "      <td>0.2</td>\n",
       "      <td>Iris-setosa</td>\n",
       "    </tr>\n",
       "    <tr>\n",
       "      <th>33</th>\n",
       "      <td>5.2</td>\n",
       "      <td>4.1</td>\n",
       "      <td>1.5</td>\n",
       "      <td>0.1</td>\n",
       "      <td>Iris-setosa</td>\n",
       "    </tr>\n",
       "    <tr>\n",
       "      <th>66</th>\n",
       "      <td>6.7</td>\n",
       "      <td>3.1</td>\n",
       "      <td>4.4</td>\n",
       "      <td>1.4</td>\n",
       "      <td>Iris-versicolor</td>\n",
       "    </tr>\n",
       "    <tr>\n",
       "      <th>63</th>\n",
       "      <td>6.0</td>\n",
       "      <td>2.2</td>\n",
       "      <td>4.0</td>\n",
       "      <td>1.0</td>\n",
       "      <td>Iris-versicolor</td>\n",
       "    </tr>\n",
       "    <tr>\n",
       "      <th>111</th>\n",
       "      <td>6.5</td>\n",
       "      <td>3.2</td>\n",
       "      <td>5.1</td>\n",
       "      <td>2.0</td>\n",
       "      <td>Iris-virginica</td>\n",
       "    </tr>\n",
       "  </tbody>\n",
       "</table>\n",
       "</div>"
      ],
      "text/plain": [
       "     SepalLengthCm  SepalWidthCm  PetalLengthCm  PetalWidthCm          Species\n",
       "Id                                                                            \n",
       "49             5.3           3.7            1.5           0.2      Iris-setosa\n",
       "33             5.2           4.1            1.5           0.1      Iris-setosa\n",
       "66             6.7           3.1            4.4           1.4  Iris-versicolor\n",
       "63             6.0           2.2            4.0           1.0  Iris-versicolor\n",
       "111            6.5           3.2            5.1           2.0   Iris-virginica"
      ]
     },
     "execution_count": 23,
     "metadata": {},
     "output_type": "execute_result"
    }
   ],
   "source": [
    "data_train.sample(5, random_state=random_state)"
   ]
  },
  {
   "cell_type": "markdown",
   "metadata": {
    "papermill": {
     "duration": 0.055761,
     "end_time": "2020-12-10T16:07:00.456715",
     "exception": false,
     "start_time": "2020-12-10T16:07:00.400954",
     "status": "completed"
    },
    "tags": []
   },
   "source": [
    "Y del conjunto de datos de prueba:"
   ]
  },
  {
   "cell_type": "code",
   "execution_count": 24,
   "metadata": {
    "execution": {
     "iopub.execute_input": "2020-12-10T16:07:00.582408Z",
     "iopub.status.busy": "2020-12-10T16:07:00.581406Z",
     "iopub.status.idle": "2020-12-10T16:07:00.586311Z",
     "shell.execute_reply": "2020-12-10T16:07:00.585649Z"
    },
    "papermill": {
     "duration": 0.073872,
     "end_time": "2020-12-10T16:07:00.586421",
     "exception": false,
     "start_time": "2020-12-10T16:07:00.512549",
     "status": "completed"
    },
    "tags": []
   },
   "outputs": [
    {
     "data": {
      "text/html": [
       "<div>\n",
       "<style scoped>\n",
       "    .dataframe tbody tr th:only-of-type {\n",
       "        vertical-align: middle;\n",
       "    }\n",
       "\n",
       "    .dataframe tbody tr th {\n",
       "        vertical-align: top;\n",
       "    }\n",
       "\n",
       "    .dataframe thead th {\n",
       "        text-align: right;\n",
       "    }\n",
       "</style>\n",
       "<table border=\"1\" class=\"dataframe\">\n",
       "  <thead>\n",
       "    <tr style=\"text-align: right;\">\n",
       "      <th></th>\n",
       "      <th>SepalLengthCm</th>\n",
       "      <th>SepalWidthCm</th>\n",
       "      <th>PetalLengthCm</th>\n",
       "      <th>PetalWidthCm</th>\n",
       "      <th>Species</th>\n",
       "    </tr>\n",
       "    <tr>\n",
       "      <th>Id</th>\n",
       "      <th></th>\n",
       "      <th></th>\n",
       "      <th></th>\n",
       "      <th></th>\n",
       "      <th></th>\n",
       "    </tr>\n",
       "  </thead>\n",
       "  <tbody>\n",
       "    <tr>\n",
       "      <th>88</th>\n",
       "      <td>6.3</td>\n",
       "      <td>2.3</td>\n",
       "      <td>4.4</td>\n",
       "      <td>1.3</td>\n",
       "      <td>Iris-versicolor</td>\n",
       "    </tr>\n",
       "    <tr>\n",
       "      <th>6</th>\n",
       "      <td>5.4</td>\n",
       "      <td>3.9</td>\n",
       "      <td>1.7</td>\n",
       "      <td>0.4</td>\n",
       "      <td>Iris-setosa</td>\n",
       "    </tr>\n",
       "    <tr>\n",
       "      <th>109</th>\n",
       "      <td>6.7</td>\n",
       "      <td>2.5</td>\n",
       "      <td>5.8</td>\n",
       "      <td>1.8</td>\n",
       "      <td>Iris-virginica</td>\n",
       "    </tr>\n",
       "    <tr>\n",
       "      <th>91</th>\n",
       "      <td>5.5</td>\n",
       "      <td>2.6</td>\n",
       "      <td>4.4</td>\n",
       "      <td>1.2</td>\n",
       "      <td>Iris-versicolor</td>\n",
       "    </tr>\n",
       "    <tr>\n",
       "      <th>28</th>\n",
       "      <td>5.2</td>\n",
       "      <td>3.5</td>\n",
       "      <td>1.5</td>\n",
       "      <td>0.2</td>\n",
       "      <td>Iris-setosa</td>\n",
       "    </tr>\n",
       "  </tbody>\n",
       "</table>\n",
       "</div>"
      ],
      "text/plain": [
       "     SepalLengthCm  SepalWidthCm  PetalLengthCm  PetalWidthCm          Species\n",
       "Id                                                                            \n",
       "88             6.3           2.3            4.4           1.3  Iris-versicolor\n",
       "6              5.4           3.9            1.7           0.4      Iris-setosa\n",
       "109            6.7           2.5            5.8           1.8   Iris-virginica\n",
       "91             5.5           2.6            4.4           1.2  Iris-versicolor\n",
       "28             5.2           3.5            1.5           0.2      Iris-setosa"
      ]
     },
     "execution_count": 24,
     "metadata": {},
     "output_type": "execute_result"
    }
   ],
   "source": [
    "data_test.sample(5, random_state=random_state)"
   ]
  },
  {
   "cell_type": "markdown",
   "metadata": {
    "_uuid": "dfa6448396ab99305eddfd23cfd958266ad967a8",
    "papermill": {
     "duration": 0.05504,
     "end_time": "2020-12-10T16:07:00.696935",
     "exception": false,
     "start_time": "2020-12-10T16:07:00.641895",
     "status": "completed"
    },
    "tags": []
   },
   "source": [
    "# 3. Análisis exploratorio de datos\n",
    "\n",
    "Antes de comenzar el preprocesamiento es interesante observar las propiedades del conjunto de datos, analizando sus variables y la interacción entre estas. No obstante, no podemos usar el formato tabular directamente puesto que para un humano es casi imposible extraer conclusiones a partir del análisis de valores numéricos. Por ello, nos apoyaremos en gráficos y estadísticos."
   ]
  },
  {
   "cell_type": "markdown",
   "metadata": {
    "papermill": {
     "duration": 0.057392,
     "end_time": "2020-12-10T16:07:00.925669",
     "exception": false,
     "start_time": "2020-12-10T16:07:00.868277",
     "status": "completed"
    },
    "tags": []
   },
   "source": [
    "### Descripción del conjunto de datos\n",
    "\n",
    "Antes de realizar cualquier operación es fundamental conocer nuestro problema. Hay dos dimensiones básicas que deben ser exploradas:\n",
    "\n",
    "* Número de casos\n",
    "* Número de variables\n",
    "    * Tipo de las variables: Continuas (t.c.c. numéricas) o discretas (t.c.c. categóricas)\n",
    "    \n",
    "Para ello, vamos a recurrir a la clase `ProfileReport` de `pandas_profiling`, que proporciona estadísticos básicos de un conjunto de datos:\n",
    "\n",
    "---\n",
    "\n",
    "**Palabras clave**:\n",
    "\n",
    "- Una **variable continua** es aquella que se representa mediante valores numéricos y que se distribuye de acuerdo con una función (p.e., distribución normal).\n",
    "\n",
    "- Una **variable discreta** es aquella compuesta por un conjunto finito de valores (denominados **estados**) a los que se les puede asignar un significado, distribuyéndose de acuerdo a una función probabilística que determina su **frecuencia**.\n",
    "\n",
    "---"
   ]
  },
  {
   "cell_type": "code",
   "execution_count": 25,
   "metadata": {},
   "outputs": [],
   "source": [
    "from pandas_profiling import ProfileReport"
   ]
  },
  {
   "cell_type": "code",
   "execution_count": 26,
   "metadata": {},
   "outputs": [],
   "source": [
    "profile_report = ProfileReport(data_train)"
   ]
  },
  {
   "cell_type": "code",
   "execution_count": null,
   "metadata": {},
   "outputs": [
    {
     "data": {
      "application/vnd.jupyter.widget-view+json": {
       "model_id": "5c2c2c45f9d94c5893be6b2d0d6e4527",
       "version_major": 2,
       "version_minor": 0
      },
      "text/plain": [
       "Summarize dataset:   0%|          | 0/19 [00:00<?, ?it/s]"
      ]
     },
     "metadata": {},
     "output_type": "display_data"
    }
   ],
   "source": [
    "profile_report"
   ]
  },
  {
   "cell_type": "markdown",
   "metadata": {
    "papermill": {
     "duration": 0.057024,
     "end_time": "2020-12-10T16:07:01.388997",
     "exception": false,
     "start_time": "2020-12-10T16:07:01.331973",
     "status": "completed"
    },
    "tags": []
   },
   "source": [
    "Tal y como se puede observar, el conjunto de datos de entrenamiento está formado por 105 casos y 6 variables (1 variable identificadora, 4 variables predictoras y 1 variable clase). Además, el conjunto de datos de entrenamiento no tiene valores perdidos.\n",
    "\n",
    "Por otro lado, las variables predictoras del conjunto de datos de entrenamiento (`SepalLengthCm`, `SepalWidthCm`, `PetalLengthCm` y `PetalWidthCm`) son numéricas. Por contra, la variable clase (`Species`) es categórica y contiene los siguientes estados:\n",
    "\n",
    "* `Iris-setosa`\n",
    "* `Iris-versicolor`\n",
    "* `Iris-virginica`\n",
    "\n",
    "Esto es, nuestra variable clase es multivariada con tres estados."
   ]
  },
  {
   "cell_type": "markdown",
   "metadata": {
    "_uuid": "f17f376d1ed7405027aebcd226bb6f54d61834ed",
    "papermill": {
     "duration": 0.05651,
     "end_time": "2020-12-10T16:07:01.997872",
     "exception": false,
     "start_time": "2020-12-10T16:07:01.941362",
     "status": "completed"
    },
    "tags": []
   },
   "source": [
    "### Visualización de las variables\n",
    "\n",
    "Una vez conocemos con más detalle el conjunto de datos de entrenamiento, lo que debemos hacer es representar y analizar las distribuciones de las variables. Para ello, utilizaremos métodos univariados, esto es, histogramas para las variables numéricas y diagramas de barras para las variables categóricas. En particular:\n",
    "\n",
    "* Un histograma muestra la densidad de ejemplos para los distintos valores de una variable numérica.\n",
    "* Un diagrama de barras representa la frecuencia de cada estado de una variable categórica.\n",
    "\n",
    "---\n",
    "\n",
    "**Palabras clave**:\n",
    "\n",
    "* Un método de análisis **univariado** es aquel que involucra una única variable.\n",
    "\n",
    "---"
   ]
  },
  {
   "cell_type": "markdown",
   "metadata": {
    "papermill": {
     "duration": 0.056699,
     "end_time": "2020-12-10T16:07:02.225353",
     "exception": false,
     "start_time": "2020-12-10T16:07:02.168654",
     "status": "completed"
    },
    "tags": []
   },
   "source": [
    "Vamos a comenzar visualizando las variables numéricas del conjunto de datos de entrenamiento:\n",
    "\n",
    "---\n",
    "\n",
    "**Notas**:\n",
    "\n",
    "* El código de las gráficas no es obligatorio entenderlo. La generación de gráficas de manera manual no es un requisito evaluable en esta asignatura, tan solo regenerarlas a partir del código que se os proporciona y ser capaces de interpretarlas. No obstante, si alguien quiere aprender (y mejorar los trabajos), la librería `plotly` es muy sencilla. En el siguiente [enlace](https://plotly.com/python) se proporciona un tutorial.\n",
    "\n",
    "---"
   ]
  },
  {
   "cell_type": "code",
   "execution_count": null,
   "metadata": {},
   "outputs": [],
   "source": [
    "import plotly.express as px"
   ]
  },
  {
   "cell_type": "code",
   "execution_count": null,
   "metadata": {},
   "outputs": [],
   "source": [
    "px.histogram(X_train)"
   ]
  },
  {
   "cell_type": "markdown",
   "metadata": {
    "_uuid": "4083a4c4c0cf6cfceafe1febbb68be23664931a2",
    "papermill": {
     "duration": 0.065176,
     "end_time": "2020-12-10T16:07:03.471595",
     "exception": false,
     "start_time": "2020-12-10T16:07:03.406419",
     "status": "completed"
    },
    "tags": []
   },
   "source": [
    "Tal y como se puede observar, los atributos `SepalLengthCm` y `SepalWidthCm` muestran distribuciones con tendencia central en forma de campana (i.e.,  distribución normal). Por contra, `PetalLengthCm` y `PetalWidthCm` son algo más complejas (i.e., mixtura de distribuciones normales). Lo que también podemos observar es que todos los valores se comportan de manera parecida, sin que podamos observar valores anómalos o ruidosos.\n",
    "\n",
    "---\n",
    "\n",
    "**Palabras clave**:\n",
    "\n",
    "* Un dato **anómalo** (t.c.c. ***outlier***) es aquel que se aleja de la distribución de la variable.\n",
    "* Un dato **ruidoso** es aquel cuyo valor es erróneo comparado con respecto al resto de valores de la variable.\n",
    "\n",
    "---"
   ]
  },
  {
   "cell_type": "markdown",
   "metadata": {
    "papermill": {
     "duration": 0.06588,
     "end_time": "2020-12-10T16:07:03.602817",
     "exception": false,
     "start_time": "2020-12-10T16:07:03.536937",
     "status": "completed"
    },
    "tags": []
   },
   "source": [
    "Continuamos visualizando las variables categóricas del problema:"
   ]
  },
  {
   "cell_type": "code",
   "execution_count": null,
   "metadata": {
    "_uuid": "268a87c979078129be8902cc50e24118d7f6254b",
    "execution": {
     "iopub.execute_input": "2020-12-10T16:07:03.765191Z",
     "iopub.status.busy": "2020-12-10T16:07:03.764431Z",
     "iopub.status.idle": "2020-12-10T16:07:03.846110Z",
     "shell.execute_reply": "2020-12-10T16:07:03.845222Z"
    },
    "papermill": {
     "duration": 0.176732,
     "end_time": "2020-12-10T16:07:03.846219",
     "exception": false,
     "start_time": "2020-12-10T16:07:03.669487",
     "status": "completed"
    },
    "tags": []
   },
   "outputs": [],
   "source": [
    "px.histogram(y_train, histnorm=\"probability\")"
   ]
  },
  {
   "cell_type": "markdown",
   "metadata": {
    "_uuid": "9852797c305df3f69fd5b8a4436509758a57a0d0",
    "papermill": {
     "duration": 0.071783,
     "end_time": "2020-12-10T16:07:03.990719",
     "exception": false,
     "start_time": "2020-12-10T16:07:03.918936",
     "status": "completed"
    },
    "tags": []
   },
   "source": [
    "Lo que podemos observar es que las tres clases de la variable objetivo del problema tienen la misma proporción de casos, esto es, el problema está balanceado.\n",
    "\n",
    "---\n",
    "\n",
    "**Palabras clave**:\n",
    "\n",
    "* Una muestra está **balanceada** con respecto a un conjunto de variables cuando las frecuencias de las distintas combinaciones de estados aparecen en la misma proporción.\n",
    "\n",
    "---"
   ]
  },
  {
   "cell_type": "markdown",
   "metadata": {
    "papermill": {
     "duration": 0.07229,
     "end_time": "2020-12-10T16:07:04.136209",
     "exception": false,
     "start_time": "2020-12-10T16:07:04.063919",
     "status": "completed"
    },
    "tags": []
   },
   "source": [
    "El análisis univariado nos permite identificar problemas en las variables tales como ruido y *outliers*. También permite detectar distribuciones carentes de información, como pueden ser distribuciones uniformes en las que cada valor es prácticamente único (p.e., identificador de casos).\n",
    "\n",
    "No obstante, la mayoría de la información relevante que podemos extraer de un conjunto de datos proviene de estadísticos que se obtienen al contrastar conjunto de variables (análisis multivariado). En problemas de clasificación lo que se busca es determinar la potencia discriminativa de los atributos, para lo cuál se condiciona las relaciones entre estos con respecto a la información que aportan sobre la variable clase.\n",
    "\n",
    "---\n",
    "\n",
    "**Palabras clave**:\n",
    "\n",
    "* Un análisis **multivariado** es aquel que involucra a varias variables del problema.\n",
    "\n",
    "---"
   ]
  },
  {
   "cell_type": "markdown",
   "metadata": {
    "papermill": {
     "duration": 0.071858,
     "end_time": "2020-12-10T16:07:04.280325",
     "exception": false,
     "start_time": "2020-12-10T16:07:04.208467",
     "status": "completed"
    },
    "tags": []
   },
   "source": [
    "Como caso particular, podemos estudiar relaciones entre pares de variables. Para ello, creamos una matriz de gráficos del tipo nube puntos, en el que cada punto se corresponde con un caso del conjunto de datos y en cada eje se representa un atributo. La información de la variable clase se representa coloreando cada instancia de acuerdo con la clase a la que pertenece:"
   ]
  },
  {
   "cell_type": "code",
   "execution_count": null,
   "metadata": {
    "_uuid": "868d232e2b351a751d24b70ba8cb3e93236ec6bf",
    "execution": {
     "iopub.execute_input": "2020-12-10T16:07:04.431844Z",
     "iopub.status.busy": "2020-12-10T16:07:04.431036Z",
     "iopub.status.idle": "2020-12-10T16:07:04.625279Z",
     "shell.execute_reply": "2020-12-10T16:07:04.625850Z"
    },
    "papermill": {
     "duration": 0.273465,
     "end_time": "2020-12-10T16:07:04.626008",
     "exception": false,
     "start_time": "2020-12-10T16:07:04.352543",
     "status": "completed"
    },
    "tags": []
   },
   "outputs": [],
   "source": [
    "px.scatter_matrix(data_train, dimensions=X_train, color=target)"
   ]
  },
  {
   "cell_type": "markdown",
   "metadata": {
    "_uuid": "c56414dd13eab3f01ad4f1acb8d770e20c67981d",
    "papermill": {
     "duration": 0.081852,
     "end_time": "2020-12-10T16:07:04.792411",
     "exception": false,
     "start_time": "2020-12-10T16:07:04.710559",
     "status": "completed"
    },
    "tags": []
   },
   "source": [
    "Este gráfico muestra una gran cantidad de información relevante para nuestra tarea de clasificación, mostrando el poder discriminativo de cada atributo (diagonal principal de la matriz de gráficos), y para cada combinación de ellos. Tal y como se puede observar, una discretización en 3 intervalos de igual anchura puede ayudar a los algoritmos de aprendizaje a discriminar mejor cada una de las clases.\n",
    "\n",
    "Por suerte, el conjunto de datos `iris` fue creado con una finalidad didáctica y por ello la tarea de clasificación es muy sencilla y visual. No obstante, no tendremos la misma suerte con otros conjuntos de datos no artificiales, ya que en el mundo real los resultados serán mucho más ruidosos y aparentemente aleatorios.\n",
    "\n",
    "El análisis visual se realiza en momentos puntuales y para variables concretas una vez que hemos limpiado y analizado nuestros datos. Para empezar es normal utilizar técnicas estadísticas que nos permitan analizar las variables, para lo cual podemos utilizar la librería `pandas_profiling`."
   ]
  },
  {
   "cell_type": "markdown",
   "metadata": {
    "papermill": {
     "duration": 0.081974,
     "end_time": "2020-12-10T16:07:05.494288",
     "exception": false,
     "start_time": "2020-12-10T16:07:05.412314",
     "status": "completed"
    },
    "tags": []
   },
   "source": [
    "# 4. Preprocesamiento de datos\n",
    "\n",
    "El preprocesamiento de datos es una de la tareas más importantes del proceso *KDD*, y se estima que debe ocupar, al menos, un 80% del esfuerzo dedicado a un proyecto. Durante esta tarea se transforman los \"**datos crudos**\" (\"***raw data***\") en información mucho más accessible por los algoritmos aprendizaje. De hecho, si este contiene demasiados datos redundantes, ruidosos o irrelevantes, el modelo aprendido se va a ajustar a este tipo de datos en lugar de a la información relevante, obteniendo resultados inesperados.\n",
    "\n",
    "Dentro del preprocesamiento de datos, podemos destacar las siguientes tareas:\n",
    "\n",
    "* Limpieza de datos (imputación de valores perdidos, suavizado del ruido, etc.)\n",
    "* Integración de datos (a partir de múltiples fuentes)\n",
    "* Transformación de datos (normalización, construcción, etc.)\n",
    "* Reducción de datos (discretización de variables numéricas, selección de variables, selección de instancias, etc.)\n",
    "\n",
    "En el enunciado de esta práctica solo utilizaremos discretización de variables numéricas. No obstante, en el siguiente [enlace](https://scikit-learn.org/stable/modules/preprocessing.html) se proporciona una lista completa de los transformadores que se pueden utilizar para realizar el preprocesamiento.\n",
    "\n",
    "Para llevar a cabo un buen preprocesamiento es importante conocer el concepto de ***pipeline***. Un *pipeline* no es más que un meta-estimador encargado de aplicar una serie de transformaciones sucesivas a un conjunto de datos antes de aprender y utilizar un modelo.\n",
    "\n",
    "**¿Porqué usar un *pipeline* en lugar de aplicar las transformaciones deseadas al conjunto de datos?**\n",
    "\n",
    "Cuando lleguemos a la fase de modelado, no podemos partir de un conjunto de datos ya preprocesado. Esto se debe a que, como típicamente se realiza un particionamiento de este (*holdout*, validación cruzada, etc.) para validar un modelo, estaríamos cometiendo un **fuga de datos** (***data leak***). Esto provoca que las métricas de rendimiento que obtengamos sean demasiado optimistas, pensando que el modelo funciona adecuadamente y bajo los requisitos establecidos. Sin embargo, cuando llegue un conjunto de prueba no visualizado por el algoritmo de aprendizaje, este no va a mostrar el rendimiento deseado dado que no ha sido validado honestamente. Para ello, lo que se debe hacer es utilizar la información del conjunto de entrenamiento para realizar el preprocesamiento tanto en este como en el conjunto de prueba.\n",
    "\n",
    "**¿Porqué no se aplican las transformaciones al conjunto de entrenamiento y se guardan los valores para aplicarlos al conjunto de prueba?**\n",
    "\n",
    "El problema es que tendríamos que aplicar todas estas transformaciones manualmente a todos los posibles conjuntos de prueba. Además, este proceso se complica si se utiliza una validación cruzada para obtener las métricas de rendimiento.\n",
    "\n",
    "**¿Cómo soluciona este problema el *pipeline*?**\n",
    "\n",
    "Durante el proceso de aprendizaje, al mismo tiempo que el *pipeline* transforma el conjunto de datos de entrenamiento, aprende los parámetros necesarios para realizar posteriores transformaciones utilizando esta misma información. Al final del *pipeline*, nuestro algoritmo de aprendizaje recibe los datos transformados usando únicamente información del conjunto de entrenamiento, y aprende el modelo sobre estos. Por otro lado, al realizar el proceso de inferencia se aplican las mismas transformaciones indicadas en el *pipeline* al conjunto de prueba, pero utilizando los parámetros obtenidos con la información del conjunto de entrenamiento.\n",
    "\n",
    "---\n",
    "\n",
    "**Palabras clave**:\n",
    "\n",
    "* Un **estimador** es un modelo que se utiliza para estimar valores en datos no observados.\n",
    "* La **imputación de valores perdidos** consiste en rellenar este tipo de datos para que tomen un valor conocido.\n",
    "* El **modelado** es el proceso mediante el cuál se aprende un modelo (ajuste de sus parámetros) a partir de un conjunto de datos de entrenamiento.\n",
    "* Se conoce como **datos crudos** a los datos a los que no se les ha realizado ningún tipo de procesamiento.\n",
    "* Un **fuga de datos** se produce cuando se introduce conocimiento del conjunto de prueba en el conjunto de entrenamiento (p.e., si hemos imputado la media de todo el conjunto de datos en los valores perdidos, y después lo particionamos en entrenamiento y prueba).\n",
    "* **Validar un modelo** consiste en obtener las predicciones de un conjunto de prueba y obtener métricas de rendimiento conforme a los resultados.\n",
    "\n",
    "---"
   ]
  },
  {
   "cell_type": "markdown",
   "metadata": {
    "papermill": {
     "duration": 0.082178,
     "end_time": "2020-12-10T16:07:05.827053",
     "exception": false,
     "start_time": "2020-12-10T16:07:05.744875",
     "status": "completed"
    },
    "tags": []
   },
   "source": [
    "### Discretización\n",
    "\n",
    "Tal y como se ha visto, la discretización permite transformar variables numéricas en categóricas, siendo este paso beneficioso para algunos algoritmos de aprendizaje, pues permite que modelos lineales resuelvan problemas no lineales.\n",
    "\n",
    "`scikit-learn` permite realizar tres tipos de discretización (`strategy`) mediante el transformador `KBinsDiscretizer`:\n",
    "\n",
    "* `uniform`: Igual anchura.\n",
    "* `quantile`: Igual frecuencia.\n",
    "* `kmeans`: Discretización basada en k-medias.\n",
    "\n",
    "Tras el análisis exploratorio de datos realizado previamente, parece lógico realizar una discretización en 3 intevalos de igual anchura:\n",
    "\n",
    "---\n",
    "\n",
    "**Notas**:\n",
    "\n",
    "* Obsérvese que solo inicializamos el transformador, sin realizar ningún tipo de transformación sobre los datos.\n",
    "\n",
    "---"
   ]
  },
  {
   "cell_type": "code",
   "execution_count": null,
   "metadata": {},
   "outputs": [],
   "source": [
    "from sklearn.preprocessing import KBinsDiscretizer"
   ]
  },
  {
   "cell_type": "code",
   "execution_count": null,
   "metadata": {
    "execution": {
     "iopub.execute_input": "2020-12-10T16:07:06.164434Z",
     "iopub.status.busy": "2020-12-10T16:07:06.163729Z",
     "iopub.status.idle": "2020-12-10T16:07:06.169540Z",
     "shell.execute_reply": "2020-12-10T16:07:06.168821Z"
    },
    "papermill": {
     "duration": 0.092286,
     "end_time": "2020-12-10T16:07:06.169663",
     "exception": false,
     "start_time": "2020-12-10T16:07:06.077377",
     "status": "completed"
    },
    "tags": []
   },
   "outputs": [],
   "source": [
    "k_bins_discretizer = KBinsDiscretizer(n_bins=3, strategy=\"uniform\")"
   ]
  },
  {
   "cell_type": "markdown",
   "metadata": {
    "papermill": {
     "duration": 0.082689,
     "end_time": "2020-12-10T16:07:06.336739",
     "exception": false,
     "start_time": "2020-12-10T16:07:06.254050",
     "status": "completed"
    },
    "tags": []
   },
   "source": [
    "# 5. Algoritmos de clasificación\n",
    "\n",
    "Antes de empezar a trabajar con algoritmos más potentes de la librería `scikit-learn`, vamos a ver una serie de algoritmos básicos."
   ]
  },
  {
   "cell_type": "markdown",
   "metadata": {
    "papermill": {
     "duration": 0.084286,
     "end_time": "2020-12-10T16:07:06.669966",
     "exception": false,
     "start_time": "2020-12-10T16:07:06.585680",
     "status": "completed"
    },
    "tags": []
   },
   "source": [
    "### Algoritmo *Zero-R*\n",
    "\n",
    "El algoritmo *Zero-R* es el más trivial de todos. Básicamente, aprende un clasificador que asigna, a los nuevos casos, la clase predominante en el conjunto de entrenamiento. Este clasificador es inútil en la mayoría de los casos, pero nos servirá como *baseline* a la hora de evaluar la dificultad de un conjunto de datos concreto o la efectividad de un clasificador.\n",
    "\n",
    "---\n",
    "\n",
    "**Palabras clave**:\n",
    "\n",
    "* Un **clasificador** no es más que la instancia específica de un modelo, esto es, un modelo una vez que se ha aprendido a partir del conjunto de datos de entrenamiento, y que puede ser utilizado para obtener predicciones para futuras instancias de entrada.\n",
    "\n",
    "* Nos referimos como ***baseline*** a un valor trivial en el resultado de clasificación, un punto de partida que puede alcanzarse mediante la observación directa de los datos.\n",
    "\n",
    "---"
   ]
  },
  {
   "cell_type": "markdown",
   "metadata": {
    "papermill": {
     "duration": 0.081955,
     "end_time": "2020-12-10T16:07:07.007854",
     "exception": false,
     "start_time": "2020-12-10T16:07:06.925899",
     "status": "completed"
    },
    "tags": []
   },
   "source": [
    "Para usar el algoritmo *Zero-R*, recurrimos al estimador `DummyClassifier` de `scikit-learn`:"
   ]
  },
  {
   "cell_type": "code",
   "execution_count": null,
   "metadata": {},
   "outputs": [],
   "source": [
    "from sklearn.dummy import DummyClassifier"
   ]
  },
  {
   "cell_type": "code",
   "execution_count": null,
   "metadata": {
    "execution": {
     "iopub.execute_input": "2020-12-10T16:07:07.181190Z",
     "iopub.status.busy": "2020-12-10T16:07:07.180256Z",
     "iopub.status.idle": "2020-12-10T16:07:07.183455Z",
     "shell.execute_reply": "2020-12-10T16:07:07.182827Z"
    },
    "papermill": {
     "duration": 0.091627,
     "end_time": "2020-12-10T16:07:07.183573",
     "exception": false,
     "start_time": "2020-12-10T16:07:07.091946",
     "status": "completed"
    },
    "tags": []
   },
   "outputs": [],
   "source": [
    "dummy_model = DummyClassifier(strategy=\"most_frequent\")"
   ]
  },
  {
   "cell_type": "markdown",
   "metadata": {
    "papermill": {
     "duration": 0.083462,
     "end_time": "2020-12-10T16:07:07.351955",
     "exception": false,
     "start_time": "2020-12-10T16:07:07.268493",
     "status": "completed"
    },
    "tags": []
   },
   "source": [
    "Nótese que, para predecir siempre la clase más frecuente en el conjunto de datos de entrenamiento se debe fijar el hiperparámetro `strategy` a `most_frequent`.\n",
    "\n",
    "---\n",
    "\n",
    "**Palabras clave:**\n",
    "\n",
    "* Un **hiperparámetro** es un parámetro del algoritmo de aprendizaje, que condiciona, de algún modo, cómo se inducirán los parámetros del modelo respecto a los datos. Cuantos más hiperparámetros tenga un algoritmo, mayor complejidad tendrá, pero también será más difícil de configurar el entrenamiento.\n",
    "\n",
    "---"
   ]
  },
  {
   "cell_type": "markdown",
   "metadata": {
    "papermill": {
     "duration": 0.083318,
     "end_time": "2020-12-10T16:07:07.518690",
     "exception": false,
     "start_time": "2020-12-10T16:07:07.435372",
     "status": "completed"
    },
    "tags": []
   },
   "source": [
    "### Algoritmo *CART* (*Classification and Regression Trees*): Inducción de árboles de decisión\n",
    "\n",
    "Una vez conocemos el algoritmo *Zero-R* es hora de probar un método más competitivo de la librería `scikit-learn`. Concretamente, utilizaremos un árbol de decisión (aunque solo arañaremos el potencial de la librería en esta práctica).\n",
    "\n",
    "Para lanzar el algoritmo, usaremos el estimador `DecisionTreeClassifier` de `scikit-learn`:\n",
    "\n",
    "---\n",
    "\n",
    "**Notas**:\n",
    "\n",
    "* Es importante fijar el hiperparámetro `random_state` a una semilla para garantizar la reproducibilidad de los experimentos.\n",
    "\n",
    "---"
   ]
  },
  {
   "cell_type": "code",
   "execution_count": null,
   "metadata": {},
   "outputs": [],
   "source": [
    "from sklearn.tree import DecisionTreeClassifier"
   ]
  },
  {
   "cell_type": "code",
   "execution_count": null,
   "metadata": {
    "execution": {
     "iopub.execute_input": "2020-12-10T16:07:07.858683Z",
     "iopub.status.busy": "2020-12-10T16:07:07.857906Z",
     "iopub.status.idle": "2020-12-10T16:07:07.860866Z",
     "shell.execute_reply": "2020-12-10T16:07:07.860359Z"
    },
    "papermill": {
     "duration": 0.091596,
     "end_time": "2020-12-10T16:07:07.860981",
     "exception": false,
     "start_time": "2020-12-10T16:07:07.769385",
     "status": "completed"
    },
    "tags": []
   },
   "outputs": [],
   "source": [
    "decision_tree_model = DecisionTreeClassifier(random_state=random_state)"
   ]
  },
  {
   "cell_type": "markdown",
   "metadata": {
    "papermill": {
     "duration": 0.083671,
     "end_time": "2020-12-10T16:07:08.027571",
     "exception": false,
     "start_time": "2020-12-10T16:07:07.943900",
     "status": "completed"
    },
    "tags": []
   },
   "source": [
    "### *Pipeline*\n",
    "\n",
    "Para crear un *pipeline*, vamos a usar la función `make_pipeline` de `scikit-learn`. Esta toma como parámetros la lista de transformadores a aplicar al conjunto de datos y, al final de este, el estimador a utilizar.\n",
    "\n",
    "En particular, vamos a crear un *pipeline* formado por `KBinsDiscretizer` + `DecisionTreeClassifier`, para comparar el rendimiento con respecto al árbol de decisión sin el conjunto de datos discretizado:"
   ]
  },
  {
   "cell_type": "code",
   "execution_count": null,
   "metadata": {},
   "outputs": [],
   "source": [
    "from sklearn.pipeline import make_pipeline"
   ]
  },
  {
   "cell_type": "code",
   "execution_count": null,
   "metadata": {},
   "outputs": [],
   "source": [
    "k_bins_decision_tree_model = make_pipeline(k_bins_discretizer, decision_tree_model)"
   ]
  },
  {
   "cell_type": "markdown",
   "metadata": {
    "_uuid": "9efefc8412fcc24769a7d98bf42ddbdd15d974df",
    "papermill": {
     "duration": 0.083153,
     "end_time": "2020-12-10T16:07:08.585486",
     "exception": false,
     "start_time": "2020-12-10T16:07:08.502333",
     "status": "completed"
    },
    "tags": []
   },
   "source": [
    "# 5. Evaluación de modelos\n",
    "\n",
    "Ahora es el momento de entrenar y validar nuestros clasificadores. Para ello, vamos a usar una matriz de confusión y un informe de clasificación.\n",
    "\n",
    "Empezamos con el algoritmo *Zero-R*:"
   ]
  },
  {
   "cell_type": "code",
   "execution_count": null,
   "metadata": {},
   "outputs": [],
   "source": [
    "dummy_classifier, dummy_predictions = fit_evaluate(dummy_model, X_train, X_test, y_train, y_test)"
   ]
  },
  {
   "cell_type": "markdown",
   "metadata": {
    "_uuid": "56eac04a7c1e86758c1a208ba0d568d216132393",
    "papermill": {
     "duration": 0.084181,
     "end_time": "2020-12-10T16:07:09.547491",
     "exception": false,
     "start_time": "2020-12-10T16:07:09.463310",
     "status": "completed"
    },
    "tags": []
   },
   "source": [
    "Como era de esperar, el modelo *Zero-R* obtiene malos resultados, pues solo predice la clase mayoritaria en el conjunto de entrenamiento (`Iris-setosa`).\n",
    "\n",
    "Vamos a ver los resultados del árbol de decisión sin el conjunto de datos discretizado:"
   ]
  },
  {
   "cell_type": "code",
   "execution_count": null,
   "metadata": {},
   "outputs": [],
   "source": [
    "decision_tree_classifier, decision_tree_predictions = fit_evaluate(decision_tree_model, X_train, X_test, y_train, y_test)"
   ]
  },
  {
   "cell_type": "markdown",
   "metadata": {
    "papermill": {
     "duration": 0.085639,
     "end_time": "2020-12-10T16:07:10.083345",
     "exception": false,
     "start_time": "2020-12-10T16:07:09.997706",
     "status": "completed"
    },
    "tags": []
   },
   "source": [
    "Y con el conjunto de datos discretizado:"
   ]
  },
  {
   "cell_type": "code",
   "execution_count": null,
   "metadata": {},
   "outputs": [],
   "source": [
    "k_bins_decision_tree_classifier, k_bins_decision_tree_predictions = fit_evaluate(k_bins_decision_tree_model, X_train, X_test, y_train, y_test)"
   ]
  },
  {
   "cell_type": "markdown",
   "metadata": {
    "papermill": {
     "duration": 0.085031,
     "end_time": "2020-12-10T16:07:10.621020",
     "exception": false,
     "start_time": "2020-12-10T16:07:10.535989",
     "status": "completed"
    },
    "tags": []
   },
   "source": [
    "Es evidente que los árboles de decisión obtienen mejores resultados que el algoritmo *Zero-R*. De hecho es importante comentar que el árbol de decisión entrenado con el conjunto de datos discretizado obtiene una mayor tasa de acierto que su homólogo no discretizado.\n",
    "\n",
    "**¿Cómo ha distinguido el algoritmo de inducción de árboles de decisión las variables categóricas?**\n",
    "\n",
    "Este algoritmo es capaz de reconocer las variables categóricas gracias al uso de la codificación *one-hot* durante la discretización. Esta codificación  transforma cada atributo categórico con $ n $ estados en $ n $ atributos binarios (uno de ellos fijado a 1 y el resto a 0) indicando a qué estado pertenece la instancia correspondiente.\n",
    "\n",
    "**¿Por qué se utiliza esta codificación?**\n",
    "\n",
    "La codificación *one-hot* viene motivada por los algoritmos de aprendizaje que no manejan atributos categóricos, pues permite solucionar elegantemente este problema. De hecho permite obtener modelos más expresivos manteniendo la interpretabilidad.\n",
    "\n",
    "Por otro lado, la mayor parte de los algoritmos de aprendizaje de la librería `scikit-learn` solo trabajan con variables predictoras numéricas, por lo que aplicar esta transformación es un requisito necesario antes de entrenar los correspondientes modelos. Este es el caso de los árboles de decisión, pues sin necesidad de modificar el algoritmo, y usando el método estándar de considerar todos los valores (únicos) como posibles umbrales es capaz de manejar los atributos categóricos adecuadamente.\n",
    "\n",
    "No obstante, esta codificación no es única sino que `scikit-learn` implementa una gran variedad. La lista completa se encuentra en el siguiente [enlace](https://scikit-learn.org/stable/modules/preprocessing.html#encoding-categorical-features)."
   ]
  },
  {
   "cell_type": "markdown",
   "metadata": {
    "_uuid": "af246f8bddef7b6834b041d8cfc876ae632d4032",
    "papermill": {
     "duration": 0.085904,
     "end_time": "2020-12-10T16:07:10.792874",
     "exception": false,
     "start_time": "2020-12-10T16:07:10.706970",
     "status": "completed"
    },
    "tags": []
   },
   "source": [
    "# Trabajo a entregar\n",
    "\n",
    "Un informe reproduciendo el estudio que hemos hecho con `iris` para `titanic`. En el enlace al conjunto de datos se puede encontrar información sobre el significado semántico del problema. Debéis explorar el conjunto de datos, preprocesarlo y aprender los modelos vistos para después realizar un proceso de clasificación que tendréis que interpretar. El estudio del conjunto de datos se deberá incluir en una única libreta.\n",
    "\n",
    "Los siguientes elementos deben estar presentes en la libreta:\n",
    "\n",
    "* Análisis exploratorio de datos mediante gráficas y estadísticos.\n",
    "* Preprocesamiento de datos.\n",
    "* Aprendizaje y evaluación de un clasificador *Zero-R*.\n",
    "* Aprendizaje y evaluación de un árbol de decisión (sin y con discretización).\n",
    "\n",
    "Todos los apartados deberán realizarse mediante proceso *holdout* estratificado, discutiendo los resultados y comparando los tres modelos. Además, se deberán analizar las matrices de confusión correspondientes.\n",
    "\n",
    "Es muy importante tener en cuenta los siguientes criterios de evaluación:\n",
    "\n",
    "* Deben realizarse todos los puntos anteriores.\n",
    "* Deben explicarse coherentemente los resultados, utilizando siempre que se pueda un vocabulario técnico (palabras clave).\n",
    "* El código debe ser claro y estar bien documentado.\n",
    "* Las explicaciones deben ser claras y el documento estar bien estructurado.\n",
    "* El código debe ser reproducible.\n",
    "\n",
    "Como se puede ver, hay 5 puntos de evaluación que supondrán la valoración media de la práctica. Ya sabéis que la media es un estadístico que se ve afectado enormemente por los valores extremos, así que, aunque el contenido sea correcto, si no se explica bien o no está presentable, la nota se verá notablemente afectada.\n",
    "\n",
    "**Recordar que asociada a esta práctica habrá una entrevista para completar la evaluación de la práctica.**"
   ]
  }
 ],
 "metadata": {
  "kernelspec": {
   "display_name": "Python 3",
   "language": "python",
   "name": "python3"
  },
  "language_info": {
   "codemirror_mode": {
    "name": "ipython",
    "version": 3
   },
   "file_extension": ".py",
   "mimetype": "text/x-python",
   "name": "python",
   "nbconvert_exporter": "python",
   "pygments_lexer": "ipython3",
   "version": "3.7.10"
  },
  "papermill": {
   "duration": 23.527257,
   "end_time": "2020-12-10T16:07:11.160154",
   "environment_variables": {},
   "exception": null,
   "input_path": "__notebook__.ipynb",
   "output_path": "__notebook__.ipynb",
   "parameters": {},
   "start_time": "2020-12-10T16:06:47.632897",
   "version": "2.1.0"
  },
  "widgets": {
   "application/vnd.jupyter.widget-state+json": {
    "state": {
     "35f7c1028201469ea3d447b320b08a8b": {
      "model_module": "@jupyter-widgets/output",
      "model_module_version": "1.0.0",
      "model_name": "OutputModel",
      "state": {
       "_dom_classes": [],
       "_model_module": "@jupyter-widgets/output",
       "_model_module_version": "1.0.0",
       "_model_name": "OutputModel",
       "_view_count": null,
       "_view_module": "@jupyter-widgets/output",
       "_view_module_version": "1.0.0",
       "_view_name": "OutputView",
       "layout": "IPY_MODEL_7da665a328534416bd158b3306822b9c",
       "msg_id": "",
       "outputs": []
      }
     },
     "3fcaaec8a6614564bd82819ff45417e9": {
      "model_module": "@jupyter-widgets/controls",
      "model_module_version": "1.5.0",
      "model_name": "DropdownModel",
      "state": {
       "_dom_classes": [],
       "_model_module": "@jupyter-widgets/controls",
       "_model_module_version": "1.5.0",
       "_model_name": "DropdownModel",
       "_options_labels": [
        "Species"
       ],
       "_view_count": null,
       "_view_module": "@jupyter-widgets/controls",
       "_view_module_version": "1.5.0",
       "_view_name": "DropdownView",
       "description": "var",
       "description_tooltip": null,
       "disabled": false,
       "index": 0,
       "layout": "IPY_MODEL_e2c4afca6a6b488cb7329e2a55be9b31",
       "style": "IPY_MODEL_6ff4c1e1a61842b783803ddbf9f66588"
      }
     },
     "5c19b9313d89456584b762bbcb2791f5": {
      "model_module": "@jupyter-widgets/base",
      "model_module_version": "1.2.0",
      "model_name": "LayoutModel",
      "state": {
       "_model_module": "@jupyter-widgets/base",
       "_model_module_version": "1.2.0",
       "_model_name": "LayoutModel",
       "_view_count": null,
       "_view_module": "@jupyter-widgets/base",
       "_view_module_version": "1.2.0",
       "_view_name": "LayoutView",
       "align_content": null,
       "align_items": null,
       "align_self": null,
       "border": null,
       "bottom": null,
       "display": null,
       "flex": null,
       "flex_flow": null,
       "grid_area": null,
       "grid_auto_columns": null,
       "grid_auto_flow": null,
       "grid_auto_rows": null,
       "grid_column": null,
       "grid_gap": null,
       "grid_row": null,
       "grid_template_areas": null,
       "grid_template_columns": null,
       "grid_template_rows": null,
       "height": null,
       "justify_content": null,
       "justify_items": null,
       "left": null,
       "margin": null,
       "max_height": null,
       "max_width": null,
       "min_height": null,
       "min_width": null,
       "object_fit": null,
       "object_position": null,
       "order": null,
       "overflow": null,
       "overflow_x": null,
       "overflow_y": null,
       "padding": null,
       "right": null,
       "top": null,
       "visibility": null,
       "width": null
      }
     },
     "6ff4c1e1a61842b783803ddbf9f66588": {
      "model_module": "@jupyter-widgets/controls",
      "model_module_version": "1.5.0",
      "model_name": "DescriptionStyleModel",
      "state": {
       "_model_module": "@jupyter-widgets/controls",
       "_model_module_version": "1.5.0",
       "_model_name": "DescriptionStyleModel",
       "_view_count": null,
       "_view_module": "@jupyter-widgets/base",
       "_view_module_version": "1.2.0",
       "_view_name": "StyleView",
       "description_width": ""
      }
     },
     "7da665a328534416bd158b3306822b9c": {
      "model_module": "@jupyter-widgets/base",
      "model_module_version": "1.2.0",
      "model_name": "LayoutModel",
      "state": {
       "_model_module": "@jupyter-widgets/base",
       "_model_module_version": "1.2.0",
       "_model_name": "LayoutModel",
       "_view_count": null,
       "_view_module": "@jupyter-widgets/base",
       "_view_module_version": "1.2.0",
       "_view_name": "LayoutView",
       "align_content": null,
       "align_items": null,
       "align_self": null,
       "border": null,
       "bottom": null,
       "display": null,
       "flex": null,
       "flex_flow": null,
       "grid_area": null,
       "grid_auto_columns": null,
       "grid_auto_flow": null,
       "grid_auto_rows": null,
       "grid_column": null,
       "grid_gap": null,
       "grid_row": null,
       "grid_template_areas": null,
       "grid_template_columns": null,
       "grid_template_rows": null,
       "height": null,
       "justify_content": null,
       "justify_items": null,
       "left": null,
       "margin": null,
       "max_height": null,
       "max_width": null,
       "min_height": null,
       "min_width": null,
       "object_fit": null,
       "object_position": null,
       "order": null,
       "overflow": null,
       "overflow_x": null,
       "overflow_y": null,
       "padding": null,
       "right": null,
       "top": null,
       "visibility": null,
       "width": null
      }
     },
     "cba260c6f16d45f3b9acfe7431f73d77": {
      "model_module": "@jupyter-widgets/controls",
      "model_module_version": "1.5.0",
      "model_name": "VBoxModel",
      "state": {
       "_dom_classes": [
        "widget-interact"
       ],
       "_model_module": "@jupyter-widgets/controls",
       "_model_module_version": "1.5.0",
       "_model_name": "VBoxModel",
       "_view_count": null,
       "_view_module": "@jupyter-widgets/controls",
       "_view_module_version": "1.5.0",
       "_view_name": "VBoxView",
       "box_style": "",
       "children": [
        "IPY_MODEL_3fcaaec8a6614564bd82819ff45417e9",
        "IPY_MODEL_35f7c1028201469ea3d447b320b08a8b"
       ],
       "layout": "IPY_MODEL_5c19b9313d89456584b762bbcb2791f5"
      }
     },
     "e2c4afca6a6b488cb7329e2a55be9b31": {
      "model_module": "@jupyter-widgets/base",
      "model_module_version": "1.2.0",
      "model_name": "LayoutModel",
      "state": {
       "_model_module": "@jupyter-widgets/base",
       "_model_module_version": "1.2.0",
       "_model_name": "LayoutModel",
       "_view_count": null,
       "_view_module": "@jupyter-widgets/base",
       "_view_module_version": "1.2.0",
       "_view_name": "LayoutView",
       "align_content": null,
       "align_items": null,
       "align_self": null,
       "border": null,
       "bottom": null,
       "display": null,
       "flex": null,
       "flex_flow": null,
       "grid_area": null,
       "grid_auto_columns": null,
       "grid_auto_flow": null,
       "grid_auto_rows": null,
       "grid_column": null,
       "grid_gap": null,
       "grid_row": null,
       "grid_template_areas": null,
       "grid_template_columns": null,
       "grid_template_rows": null,
       "height": null,
       "justify_content": null,
       "justify_items": null,
       "left": null,
       "margin": null,
       "max_height": null,
       "max_width": null,
       "min_height": null,
       "min_width": null,
       "object_fit": null,
       "object_position": null,
       "order": null,
       "overflow": null,
       "overflow_x": null,
       "overflow_y": null,
       "padding": null,
       "right": null,
       "top": null,
       "visibility": null,
       "width": null
      }
     }
    },
    "version_major": 2,
    "version_minor": 0
   }
  }
 },
 "nbformat": 4,
 "nbformat_minor": 4
}
